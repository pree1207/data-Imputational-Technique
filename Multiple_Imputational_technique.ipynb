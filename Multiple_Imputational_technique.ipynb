{
  "nbformat": 4,
  "nbformat_minor": 0,
  "metadata": {
    "colab": {
      "provenance": [],
      "authorship_tag": "ABX9TyOKeFcvzW+oxadJfP+MCjcV",
      "include_colab_link": true
    },
    "kernelspec": {
      "name": "python3",
      "display_name": "Python 3"
    },
    "language_info": {
      "name": "python"
    }
  },
  "cells": [
    {
      "cell_type": "markdown",
      "metadata": {
        "id": "view-in-github",
        "colab_type": "text"
      },
      "source": [
        "<a href=\"https://colab.research.google.com/github/pree1207/data-Imputational-Technique/blob/main/Multiple_Imputational_technique.ipynb\" target=\"_parent\"><img src=\"https://colab.research.google.com/assets/colab-badge.svg\" alt=\"Open In Colab\"/></a>"
      ]
    },
    {
      "cell_type": "code",
      "execution_count": null,
      "metadata": {
        "colab": {
          "base_uri": "https://localhost:8080/"
        },
        "id": "k1eK_LOa0VE5",
        "outputId": "5b591399-c6fd-4fe7-9816-b19ad872fcb8"
      },
      "outputs": [
        {
          "output_type": "stream",
          "name": "stdout",
          "text": [
            "[[200. ]\n",
            " [180. ]\n",
            " [220. ]\n",
            " [202.5]\n",
            " [210. ]]\n"
          ]
        }
      ],
      "source": [
        "import pandas as pd\n",
        "import numpy as np\n",
        "from sklearn.experimental import enable_iterative_imputer\n",
        "from sklearn.impute import IterativeImputer\n",
        "\n",
        "data = pd.DataFrame({'cholesterol': [200, 180, 220, np.nan, 210]})\n",
        "imputer = IterativeImputer()\n",
        "imputed_data = imputer.fit_transform(data)\n",
        "print(imputed_data)\n"
      ]
    },
    {
      "cell_type": "markdown",
      "source": [
        "In a medical study, if a patient's cholesterol level is missing, multiple imputations can provide a more robust estimate by considering different possible values."
      ],
      "metadata": {
        "id": "l9jfmBNJ026L"
      }
    }
  ]
}