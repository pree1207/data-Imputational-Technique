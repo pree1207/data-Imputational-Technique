{
  "nbformat": 4,
  "nbformat_minor": 0,
  "metadata": {
    "colab": {
      "provenance": [],
      "authorship_tag": "ABX9TyOD66bJxCgFnbnKUds0jxgp",
      "include_colab_link": true
    },
    "kernelspec": {
      "name": "python3",
      "display_name": "Python 3"
    },
    "language_info": {
      "name": "python"
    }
  },
  "cells": [
    {
      "cell_type": "markdown",
      "metadata": {
        "id": "view-in-github",
        "colab_type": "text"
      },
      "source": [
        "<a href=\"https://colab.research.google.com/github/pree1207/data-Imputational-Technique/blob/main/mean_median%20imputation.ipynb\" target=\"_parent\"><img src=\"https://colab.research.google.com/assets/colab-badge.svg\" alt=\"Open In Colab\"/></a>"
      ]
    },
    {
      "cell_type": "code",
      "execution_count": 1,
      "metadata": {
        "colab": {
          "base_uri": "https://localhost:8080/"
        },
        "id": "zgIM8b8Sa14p",
        "outputId": "32d4876b-7191-4fe9-d625-0555a3c1ae9a"
      },
      "outputs": [
        {
          "output_type": "stream",
          "name": "stdout",
          "text": [
            "[[80. ]\n",
            " [85. ]\n",
            " [90. ]\n",
            " [95. ]\n",
            " [87.5]]\n"
          ]
        }
      ],
      "source": [
        "import numpy as np\n",
        "from sklearn.impute import SimpleImputer\n",
        "\n",
        "data = [[80], [85], [90], [95], [np.nan]]\n",
        "imputer = SimpleImputer(strategy='mean')\n",
        "imputed_data = imputer.fit_transform(data)\n",
        "print(imputed_data)\n"
      ]
    },
    {
      "cell_type": "markdown",
      "source": [
        "Consider a dataset with student test scores: [80, 85, 90, 95, NaN]. The missing value can be imputed with the mean of the available scores: (80 + 85 + 90 + 95) / 4 = 87.5."
      ],
      "metadata": {
        "id": "eLRa3ApvbEBi"
      }
    }
  ]
}