{
  "nbformat": 4,
  "nbformat_minor": 0,
  "metadata": {
    "colab": {
      "provenance": [],
      "authorship_tag": "ABX9TyMjTvpt83BYc2PymQLsDC+/",
      "include_colab_link": true
    },
    "kernelspec": {
      "name": "python3",
      "display_name": "Python 3"
    },
    "language_info": {
      "name": "python"
    }
  },
  "cells": [
    {
      "cell_type": "markdown",
      "metadata": {
        "id": "view-in-github",
        "colab_type": "text"
      },
      "source": [
        "<a href=\"https://colab.research.google.com/github/pree1207/data-Imputational-Technique/blob/main/Regration_Imputation.ipynb\" target=\"_parent\"><img src=\"https://colab.research.google.com/assets/colab-badge.svg\" alt=\"Open In Colab\"/></a>"
      ]
    },
    {
      "cell_type": "code",
      "source": [
        "import pandas as pd\n",
        "from sklearn.linear_model import LinearRegression\n",
        "\n",
        "data = pd.DataFrame({'math': [90, 85, np.nan, 95], 'science': [88, 82, 84, 92], 'english': [85, 88, 86, 89]})\n",
        "train_data = data.dropna()\n",
        "test_data = data[data['math'].isna()]\n",
        "\n",
        "X_train = train_data[['science', 'english']]\n",
        "y_train = train_data['math']\n",
        "X_test = test_data[['science', 'english']]\n",
        "\n",
        "model = LinearRegression()\n",
        "model.fit(X_train, y_train)\n",
        "predicted = model.predict(X_test)\n",
        "data.loc[data['math'].isna(), 'math'] = predicted\n",
        "print(data)\n"
      ],
      "metadata": {
        "colab": {
          "base_uri": "https://localhost:8080/"
        },
        "id": "ApcdIILn2jIE",
        "outputId": "fb516504-5752-47de-e151-02595d7a065c"
      },
      "execution_count": null,
      "outputs": [
        {
          "output_type": "stream",
          "name": "stdout",
          "text": [
            "        math  science  english\n",
            "0  90.000000       88       85\n",
            "1  85.000000       82       88\n",
            "2  86.388889       84       86\n",
            "3  95.000000       92       89\n"
          ]
        }
      ]
    },
    {
      "cell_type": "code",
      "source": [],
      "metadata": {
        "id": "8EoXmUBNAfSN"
      },
      "execution_count": null,
      "outputs": []
    },
    {
      "cell_type": "code",
      "source": [],
      "metadata": {
        "id": "U9rG_sPDCPKr"
      },
      "execution_count": null,
      "outputs": []
    },
    {
      "cell_type": "markdown",
      "source": [
        "In a school dataset, if a student's math score is missing, it can be predicted using their science and English scores."
      ],
      "metadata": {
        "id": "r8BDcGt63PNO"
      }
    }
  ]
}