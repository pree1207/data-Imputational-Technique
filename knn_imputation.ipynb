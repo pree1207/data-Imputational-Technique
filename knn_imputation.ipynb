{
  "nbformat": 4,
  "nbformat_minor": 0,
  "metadata": {
    "colab": {
      "provenance": [],
      "authorship_tag": "ABX9TyPzHM+CHCYH/7b5Ww/pk5I5",
      "include_colab_link": true
    },
    "kernelspec": {
      "name": "python3",
      "display_name": "Python 3"
    },
    "language_info": {
      "name": "python"
    }
  },
  "cells": [
    {
      "cell_type": "markdown",
      "metadata": {
        "id": "view-in-github",
        "colab_type": "text"
      },
      "source": [
        "<a href=\"https://colab.research.google.com/github/pree1207/data-Imputational-Technique/blob/main/knn_imputation.ipynb\" target=\"_parent\"><img src=\"https://colab.research.google.com/assets/colab-badge.svg\" alt=\"Open In Colab\"/></a>"
      ]
    },
    {
      "cell_type": "code",
      "execution_count": 1,
      "metadata": {
        "colab": {
          "base_uri": "https://localhost:8080/"
        },
        "id": "BxU8-2TJdYcD",
        "outputId": "72270eeb-0d64-4228-f716-f8de99e5febd"
      },
      "outputs": [
        {
          "output_type": "stream",
          "name": "stdout",
          "text": [
            "[[10.]\n",
            " [12.]\n",
            " [14.]\n",
            " [12.]]\n"
          ]
        }
      ],
      "source": [
        "import numpy as np\n",
        "from sklearn.impute import KNNImputer\n",
        "\n",
        "data = [[10], [12], [14], [np.nan]]\n",
        "imputer = KNNImputer(n_neighbors=2)\n",
        "imputed_data = imputer.fit_transform(data)\n",
        "print(imputed_data)\n"
      ]
    },
    {
      "cell_type": "markdown",
      "source": [
        "In a dataset of plant heights, if one plant's height is missing, you can use the heights of the most similar plants to fill in the missing value."
      ],
      "metadata": {
        "id": "oaDhAaGndwk1"
      }
    }
  ]
}