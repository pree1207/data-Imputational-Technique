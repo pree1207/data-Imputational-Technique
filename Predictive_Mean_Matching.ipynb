{
  "nbformat": 4,
  "nbformat_minor": 0,
  "metadata": {
    "colab": {
      "provenance": [],
      "authorship_tag": "ABX9TyN3Ieu3retVqFC0h3ErIt/B",
      "include_colab_link": true
    },
    "kernelspec": {
      "name": "python3",
      "display_name": "Python 3"
    },
    "language_info": {
      "name": "python"
    }
  },
  "cells": [
    {
      "cell_type": "markdown",
      "metadata": {
        "id": "view-in-github",
        "colab_type": "text"
      },
      "source": [
        "<a href=\"https://colab.research.google.com/github/pree1207/data-Imputational-Technique/blob/main/Predictive_Mean_Matching.ipynb\" target=\"_parent\"><img src=\"https://colab.research.google.com/assets/colab-badge.svg\" alt=\"Open In Colab\"/></a>"
      ]
    },
    {
      "cell_type": "code",
      "source": [
        "import pandas as pd\n",
        "import numpy as np\n",
        "from sklearn.impute import SimpleImputer\n",
        "\n",
        "data = pd.DataFrame({'income': [50000, 55000, 60000, np.nan, 52000]})\n",
        "\n",
        "# Using SimpleImputer from sklearn to impute missing values with mean\n",
        "imputer = SimpleImputer(strategy='mean')\n",
        "imputed_data = imputer.fit_transform(data[['income']])\n",
        "\n",
        "print(imputed_data)\n",
        "\n"
      ],
      "metadata": {
        "colab": {
          "base_uri": "https://localhost:8080/"
        },
        "id": "oEepdw7n4bs0",
        "outputId": "e8a499e4-c9b9-45cf-a076-6a2ea13a6cfd"
      },
      "execution_count": 8,
      "outputs": [
        {
          "output_type": "stream",
          "name": "stdout",
          "text": [
            "[[50000.]\n",
            " [55000.]\n",
            " [60000.]\n",
            " [54250.]\n",
            " [52000.]]\n"
          ]
        }
      ]
    }
  ]
}